{
 "cells": [
  {
   "cell_type": "code",
   "execution_count": 3,
   "id": "d94c1d0e-cb08-434e-b941-947a0d6e4922",
   "metadata": {},
   "outputs": [],
   "source": [
    "import requests\n",
    "from bs4 import BeautifulSoup\n",
    "\n",
    "response = requests.get('https://quotes.toscrape.com/')\n",
    "soup = BeautifulSoup(response.text, 'html.parser')"
   ]
  },
  {
   "cell_type": "markdown",
   "id": "7856f625-1fee-492d-a375-bbe3261a0d4c",
   "metadata": {},
   "source": [
    "\n",
    "#ilk quote'u yazdır(sözün kendisini metin olarak)"
   ]
  },
  {
   "cell_type": "code",
   "execution_count": 18,
   "id": "548d29f3-d952-4bd3-8f34-3e5830e179b7",
   "metadata": {},
   "outputs": [
    {
     "data": {
      "text/plain": [
       "'“The world as we have created it is a process of our thinking. It cannot be changed without changing our thinking.”'"
      ]
     },
     "execution_count": 18,
     "metadata": {},
     "output_type": "execute_result"
    }
   ],
   "source": [
    "first_element = soup.find('div', class_='quote')\n",
    "first_quote = first_element.span.text\n",
    "first_quote\n"
   ]
  },
  {
   "cell_type": "markdown",
   "id": "0ffcda96-6b4f-4eb9-a9a1-1118cb00af82",
   "metadata": {},
   "source": [
    "****\n",
    "ilk quote'un yazarının ismini yazdır."
   ]
  },
  {
   "cell_type": "code",
   "execution_count": 19,
   "id": "9c6adc7e-aad5-4b8c-901d-479785359fa7",
   "metadata": {},
   "outputs": [
    {
     "data": {
      "text/plain": [
       "'Albert Einstein'"
      ]
     },
     "execution_count": 19,
     "metadata": {},
     "output_type": "execute_result"
    }
   ],
   "source": [
    "first_author = first_element.find('small').text\n",
    "first_author"
   ]
  },
  {
   "cell_type": "markdown",
   "id": "8d92a60c-cd2c-4de1-8356-99321f7beb56",
   "metadata": {},
   "source": [
    "****\n",
    "İlk quote'un etiketlerini yazdır (loop kullanmak gerekebilir"
   ]
  },
  {
   "cell_type": "code",
   "execution_count": 21,
   "id": "664b39a6-f5e9-4f3a-9b73-7f000aa1d251",
   "metadata": {},
   "outputs": [
    {
     "name": "stdout",
     "output_type": "stream",
     "text": [
      "change\n",
      "deep-thoughts\n",
      "thinking\n",
      "world\n"
     ]
    }
   ],
   "source": [
    "tags = first_element.find_all('a', class_='tag')\n",
    "for tag in tags:\n",
    "    print(tag.text)"
   ]
  },
  {
   "cell_type": "markdown",
   "id": "b9d14fc5-dccb-491e-9b89-9ad00df0040e",
   "metadata": {},
   "source": [
    "***\n",
    "İlk sayfadaki tüm quote'ların bir listesini al. Eleman sayısını kontrol et, 10 olmalı."
   ]
  },
  {
   "cell_type": "code",
   "execution_count": 23,
   "id": "faeffae6-72dc-4e1e-a77b-dd3542396f59",
   "metadata": {},
   "outputs": [
    {
     "data": {
      "text/plain": [
       "10"
      ]
     },
     "execution_count": 23,
     "metadata": {},
     "output_type": "execute_result"
    }
   ],
   "source": [
    "quotes = soup.find_all('div', class_='quote')\n",
    "len(quotes)"
   ]
  },
  {
   "cell_type": "markdown",
   "id": "38f2b06e-00f8-4ec6-90d0-e88bfc089a8a",
   "metadata": {},
   "source": [
    "***\n",
    "İlk sayfadaki tüm quote'ları, yazarlarını ve etiketlerini yazdır. (loop kullanmak gerekiyor. Etiketler için bir loop daha.)"
   ]
  },
  {
   "cell_type": "code",
   "execution_count": 31,
   "id": "a4d70f54-1e7e-4ee9-a0eb-3f89f3e1b6f5",
   "metadata": {
    "scrolled": true
   },
   "outputs": [
    {
     "name": "stdout",
     "output_type": "stream",
     "text": [
      "“The world as we have created it is a process of our thinking. It cannot be changed without changing our thinking.”\n",
      "Albert Einstein\n",
      "change\n",
      "deep-thoughts\n",
      "thinking\n",
      "world\n",
      "\n",
      "\n",
      "“It is our choices, Harry, that show what we truly are, far more than our abilities.”\n",
      "J.K. Rowling\n",
      "abilities\n",
      "choices\n",
      "\n",
      "\n",
      "“There are only two ways to live your life. One is as though nothing is a miracle. The other is as though everything is a miracle.”\n",
      "Albert Einstein\n",
      "inspirational\n",
      "life\n",
      "live\n",
      "miracle\n",
      "miracles\n",
      "\n",
      "\n",
      "“The person, be it gentleman or lady, who has not pleasure in a good novel, must be intolerably stupid.”\n",
      "Jane Austen\n",
      "aliteracy\n",
      "books\n",
      "classic\n",
      "humor\n",
      "\n",
      "\n",
      "“Imperfection is beauty, madness is genius and it's better to be absolutely ridiculous than absolutely boring.”\n",
      "Marilyn Monroe\n",
      "be-yourself\n",
      "inspirational\n",
      "\n",
      "\n",
      "“Try not to become a man of success. Rather become a man of value.”\n",
      "Albert Einstein\n",
      "adulthood\n",
      "success\n",
      "value\n",
      "\n",
      "\n",
      "“It is better to be hated for what you are than to be loved for what you are not.”\n",
      "André Gide\n",
      "life\n",
      "love\n",
      "\n",
      "\n",
      "“I have not failed. I've just found 10,000 ways that won't work.”\n",
      "Thomas A. Edison\n",
      "edison\n",
      "failure\n",
      "inspirational\n",
      "paraphrased\n",
      "\n",
      "\n",
      "“A woman is like a tea bag; you never know how strong it is until it's in hot water.”\n",
      "Eleanor Roosevelt\n",
      "misattributed-eleanor-roosevelt\n",
      "\n",
      "\n",
      "“A day without sunshine is like, you know, night.”\n",
      "Steve Martin\n",
      "humor\n",
      "obvious\n",
      "simile\n",
      "\n",
      "\n"
     ]
    }
   ],
   "source": [
    "for quote in quotes:\n",
    "    print(quote.span.text)\n",
    "    print(quote.small.text)\n",
    "    tags = quote.find_all('a', class_= 'tag')\n",
    "    for tag in tags:\n",
    "        print(tag.text)\n",
    "    print('\\n')"
   ]
  },
  {
   "cell_type": "markdown",
   "id": "3d290b17-02e5-46a9-b3a1-96feddce04fc",
   "metadata": {},
   "source": [
    "***\n",
    "Tüm sayfalardaki ilk yazarın ismini yazdır. (10 sayfa var. yai 10 request yapmak ve 10 soup oluşturmak gerekiyor.)"
   ]
  },
  {
   "cell_type": "code",
   "execution_count": 33,
   "id": "25e76137-8326-47c2-9eac-b4a0625ad8fb",
   "metadata": {},
   "outputs": [
    {
     "name": "stdout",
     "output_type": "stream",
     "text": [
      "Albert Einstein\n",
      "Marilyn Monroe\n",
      "Pablo Neruda\n",
      "Dr. Seuss\n",
      "George R.R. Martin\n",
      "Jane Austen\n",
      "Charles Bukowski\n",
      "Alfred Tennyson\n",
      "Albert Einstein\n",
      "J.K. Rowling\n"
     ]
    }
   ],
   "source": [
    "#10 sayfa olduğunu bildiğimiz için for kullanıyorum.\n",
    "for page_number in range(1,11):\n",
    "    url = f'https://quotes.toscrape.com/page/{page_number}/'\n",
    "    response = requests.get(url)\n",
    "    page_soup = BeautifulSoup(response.text, 'html.parser')\n",
    "    first_element = page_soup .find('div',class_='quote')\n",
    "    print(first_element.small.text)"
   ]
  },
  {
   "cell_type": "markdown",
   "id": "a61ec9f5-dcdf-4c82-9d79-edf47a704b95",
   "metadata": {},
   "source": [
    "***\n",
    "İlk sayfadaki 'Next' butonunu bul ve href değerini yazdır."
   ]
  },
  {
   "cell_type": "code",
   "execution_count": 40,
   "id": "7500ab54-a741-4bc6-a48e-c25bb7a56317",
   "metadata": {},
   "outputs": [
    {
     "data": {
      "text/plain": [
       "'/page/2/'"
      ]
     },
     "execution_count": 40,
     "metadata": {},
     "output_type": "execute_result"
    }
   ],
   "source": [
    " next_button = soup.find('li', class_='next').a\n",
    "next_button['href']"
   ]
  },
  {
   "cell_type": "markdown",
   "id": "caacabde-1a1c-45ed-81c1-a690fba02a1f",
   "metadata": {},
   "source": [
    "****\n",
    "Bulduğun next butonunu kullanarak navigasyon ile (parent, sibling) ilk sayfadaki son quote elementine eriş."
   ]
  },
  {
   "cell_type": "code",
   "execution_count": 41,
   "id": "fb8e5a68-0a53-4304-98da-3b38791c7ed0",
   "metadata": {},
   "outputs": [
    {
     "data": {
      "text/plain": [
       "<div class=\"quote\" itemscope=\"\" itemtype=\"http://schema.org/CreativeWork\">\n",
       "<span class=\"text\" itemprop=\"text\">“A day without sunshine is like, you know, night.”</span>\n",
       "<span>by <small class=\"author\" itemprop=\"author\">Steve Martin</small>\n",
       "<a href=\"/author/Steve-Martin\">(about)</a>\n",
       "</span>\n",
       "<div class=\"tags\">\n",
       "            Tags:\n",
       "            <meta class=\"keywords\" content=\"humor,obvious,simile\" itemprop=\"keywords\"/>\n",
       "<a class=\"tag\" href=\"/tag/humor/page/1/\">humor</a>\n",
       "<a class=\"tag\" href=\"/tag/obvious/page/1/\">obvious</a>\n",
       "<a class=\"tag\" href=\"/tag/simile/page/1/\">simile</a>\n",
       "</div>\n",
       "</div>"
      ]
     },
     "execution_count": 41,
     "metadata": {},
     "output_type": "execute_result"
    }
   ],
   "source": [
    "last_quote = next_button.parent.parent.parent.find_previous_sibling()\n",
    "last_quote"
   ]
  },
  {
   "cell_type": "markdown",
   "id": "ee73103a-6c11-4f7f-881f-444e9df5ae0c",
   "metadata": {},
   "source": [
    "***\n",
    "Bulduğun son elementin class ismini yazdır."
   ]
  },
  {
   "cell_type": "code",
   "execution_count": 42,
   "id": "7dd9357a-3fc9-4bb4-ad5a-de9ae7cbb6aa",
   "metadata": {},
   "outputs": [
    {
     "data": {
      "text/plain": [
       "['quote']"
      ]
     },
     "execution_count": 42,
     "metadata": {},
     "output_type": "execute_result"
    }
   ],
   "source": [
    "last_quote['class']"
   ]
  },
  {
   "cell_type": "markdown",
   "id": "3a109897-45fc-47c4-b5d6-c9d88dce94e9",
   "metadata": {},
   "source": [
    "***\n",
    "Bulduğun son quote elementinin 'itemtype' değerini yazdır."
   ]
  },
  {
   "cell_type": "code",
   "execution_count": 44,
   "id": "dab93937-36e6-4559-ba4e-c4bcdd7fd8be",
   "metadata": {},
   "outputs": [
    {
     "data": {
      "text/plain": [
       "'http://schema.org/CreativeWork'"
      ]
     },
     "execution_count": 44,
     "metadata": {},
     "output_type": "execute_result"
    }
   ],
   "source": [
    "last_quote['itemtype']"
   ]
  },
  {
   "cell_type": "code",
   "execution_count": null,
   "id": "a8313227-e9b4-4f43-a2f9-8ddf7a3e77d9",
   "metadata": {},
   "outputs": [],
   "source": []
  }
 ],
 "metadata": {
  "kernelspec": {
   "display_name": "Python 3 (ipykernel)",
   "language": "python",
   "name": "python3"
  },
  "language_info": {
   "codemirror_mode": {
    "name": "ipython",
    "version": 3
   },
   "file_extension": ".py",
   "mimetype": "text/x-python",
   "name": "python",
   "nbconvert_exporter": "python",
   "pygments_lexer": "ipython3",
   "version": "3.12.5"
  }
 },
 "nbformat": 4,
 "nbformat_minor": 5
}
